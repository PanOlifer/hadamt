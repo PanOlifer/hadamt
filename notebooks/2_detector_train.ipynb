{
 "cells": [
  {"cell_type": "code", "source": ["print('train detectors')"], "metadata": {}, "outputs": []}
 ],
 "metadata": {},
 "nbformat": 4,
 "nbformat_minor": 5
}

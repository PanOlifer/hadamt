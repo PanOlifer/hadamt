{
 "cells": [
  {"cell_type": "code", "source": ["print('report results')"], "metadata": {}, "outputs": []}
 ],
 "metadata": {},
 "nbformat": 4,
 "nbformat_minor": 5
}
